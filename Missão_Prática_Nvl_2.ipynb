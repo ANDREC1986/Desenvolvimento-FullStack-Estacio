{
  "nbformat": 4,
  "nbformat_minor": 0,
  "metadata": {
    "colab": {
      "provenance": [],
      "authorship_tag": "ABX9TyPhynXxmIQuH/7sSpaL1S7r",
      "include_colab_link": true
    },
    "kernelspec": {
      "name": "python3",
      "display_name": "Python 3"
    },
    "language_info": {
      "name": "python"
    }
  },
  "cells": [
    {
      "cell_type": "markdown",
      "metadata": {
        "id": "view-in-github",
        "colab_type": "text"
      },
      "source": [
        "<a href=\"https://colab.research.google.com/github/ANDREC1986/Atividades-Estacio/blob/main/Miss%C3%A3o_Pr%C3%A1tica_Nvl_2.ipynb\" target=\"_parent\"><img src=\"https://colab.research.google.com/assets/colab-badge.svg\" alt=\"Open In Colab\"/></a>"
      ]
    },
    {
      "cell_type": "code",
      "execution_count": null,
      "metadata": {
        "colab": {
          "base_uri": "https://localhost:8080/"
        },
        "id": "-c5PX3U89YWW",
        "outputId": "a3c11193-fe30-477b-ced4-872b773a29bf"
      },
      "outputs": [
        {
          "output_type": "stream",
          "name": "stdout",
          "text": [
            "Número na base decimal 23\n",
            "Número na base binária 10111\n"
          ]
        }
      ],
      "source": [
        "numero_base_decimal = 23\n",
        "numero_base_binaria = \"{0:b}\".format(numero_base_decimal)\n",
        "print(f'Número na base decimal {numero_base_decimal}')\n",
        "print(f'Número na base binária {numero_base_binaria}')"
      ]
    },
    {
      "cell_type": "code",
      "source": [
        "numero_base_decimal = 23\n",
        "divisor = numero_base_decimal\n",
        "restos = []\n",
        "while divisor >= 1:\n",
        "    restos.append(str(int(divisor%2)))\n",
        "    divisor = divisor/2\n",
        "numero_base_binaria = ''.join(list(reversed(restos)))\n",
        "print(f'Número na base decimal {numero_base_decimal}')\n",
        "print(f'Número na base binária {numero_base_binaria}')"
      ],
      "metadata": {
        "colab": {
          "base_uri": "https://localhost:8080/"
        },
        "id": "5MGaprIa_bsA",
        "outputId": "55c0fcdc-f7fd-4cec-8ac4-49e1535cae69"
      },
      "execution_count": null,
      "outputs": [
        {
          "output_type": "stream",
          "name": "stdout",
          "text": [
            "Número na base decimal 23\n",
            "Número na base binária 10111\n"
          ]
        }
      ]
    },
    {
      "cell_type": "code",
      "source": [
        "numero_base_decimal = 41\n",
        "divisor = numero_base_decimal\n",
        "restos = []\n",
        "while divisor >= 1:\n",
        "    restos.append(str(int(divisor%2)))\n",
        "    divisor = divisor/2\n",
        "numero_base_binaria = ''.join(list(reversed(restos)))\n",
        "print(f'Número na base decimal {numero_base_decimal}')\n",
        "print(f'Número na base binária {numero_base_binaria}')"
      ],
      "metadata": {
        "id": "8DOLeqYg4ozG",
        "outputId": "658f4c85-3331-40d8-8168-af08cec0cd89",
        "colab": {
          "base_uri": "https://localhost:8080/"
        }
      },
      "execution_count": null,
      "outputs": [
        {
          "output_type": "stream",
          "name": "stdout",
          "text": [
            "Número na base decimal 41\n",
            "Número na base binária 101001\n"
          ]
        }
      ]
    },
    {
      "cell_type": "code",
      "source": [
        "numero_base_decimal = 1986\n",
        "divisor = numero_base_decimal\n",
        "restos = []\n",
        "while divisor >= 1:\n",
        "    restos.append(str(int(divisor%2)))\n",
        "    divisor = divisor/2\n",
        "numero_base_binaria = ''.join(list(reversed(restos)))\n",
        "print(f'Número na base decimal {numero_base_decimal}')\n",
        "print(f'Número na base binária {numero_base_binaria}')"
      ],
      "metadata": {
        "colab": {
          "base_uri": "https://localhost:8080/"
        },
        "id": "BoyGj4eUJyx4",
        "outputId": "4619ce10-49dd-4b8d-f67b-c3606c34bbaa"
      },
      "execution_count": null,
      "outputs": [
        {
          "output_type": "stream",
          "name": "stdout",
          "text": [
            "Número na base decimal 1986\n",
            "Número na base binária 11111000010\n"
          ]
        }
      ]
    }
  ]
}