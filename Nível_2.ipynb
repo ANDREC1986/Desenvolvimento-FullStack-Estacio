{
  "nbformat": 4,
  "nbformat_minor": 0,
  "metadata": {
    "colab": {
      "provenance": [],
      "authorship_tag": "ABX9TyOlfF4xfZcNW4npEVTh5PYI",
      "include_colab_link": true
    },
    "kernelspec": {
      "name": "python3",
      "display_name": "Python 3"
    },
    "language_info": {
      "name": "python"
    }
  },
  "cells": [
    {
      "cell_type": "markdown",
      "metadata": {
        "id": "view-in-github",
        "colab_type": "text"
      },
      "source": [
        "<a href=\"https://colab.research.google.com/github/ANDREC1986/Atividades-Estacio/blob/main/N%C3%ADvel_2.ipynb\" target=\"_parent\"><img src=\"https://colab.research.google.com/assets/colab-badge.svg\" alt=\"Open In Colab\"/></a>"
      ]
    },
    {
      "cell_type": "code",
      "source": [
        "#Insira sua lista para formação dos conjuntos entre os [] abaixo, separados por ,\n",
        "#Exemplo lista = [1, 2, 3, 4]\n",
        "#Para string insira os valores entre ''\n",
        "#Exemplo lista = ['a', 'b', 'c']\n",
        "\n",
        "lista = [1, 2, 3, 4]"
      ],
      "metadata": {
        "id": "kJgqLgmetK51"
      },
      "execution_count": null,
      "outputs": []
    },
    {
      "cell_type": "code",
      "source": [
        "from itertools import combinations\n",
        "sample_list = lista\n",
        "list_combinations = list()\n",
        "for n in range(len(sample_list)):\n",
        "    list_combinations += list(combinations(sample_list, n))\n",
        "    new_list = list(list_combinations)\n",
        "result = []\n",
        "for item in new_list:\n",
        "  new_item = list(item)\n",
        "  result.append(new_item)\n",
        "result.append(lista)"
      ],
      "metadata": {
        "id": "7TtMs-dkCS9N"
      },
      "execution_count": null,
      "outputs": []
    },
    {
      "cell_type": "code",
      "source": [
        "print(result)"
      ],
      "metadata": {
        "id": "pfOhGuKf3AF5",
        "colab": {
          "base_uri": "https://localhost:8080/"
        },
        "outputId": "0cbb280a-8bea-4b3b-f203-b86d41b60a3d"
      },
      "execution_count": null,
      "outputs": [
        {
          "output_type": "stream",
          "name": "stdout",
          "text": [
            "[[], [1], [2], [3], [4], [1, 2], [1, 3], [1, 4], [2, 3], [2, 4], [3, 4], [1, 2, 3], [1, 2, 4], [1, 3, 4], [2, 3, 4], [1, 2, 3, 4]]\n"
          ]
        }
      ]
    }
  ]
}